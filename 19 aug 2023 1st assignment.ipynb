{
 "cells": [
  {
   "cell_type": "raw",
   "id": "90d2ecad-cb70-40b8-b8db-34c7067b4ff6",
   "metadata": {},
   "source": [
    "1. Declare two variables, `x` and `y`, and assign them integer values. Swap the\n",
    "values of these variables without using any temporary variable."
   ]
  },
  {
   "cell_type": "code",
   "execution_count": 3,
   "id": "3d38aab0-41e3-4c41-8055-4e0725fd72ce",
   "metadata": {},
   "outputs": [],
   "source": [
    "x=5\n",
    "y=9"
   ]
  },
  {
   "cell_type": "code",
   "execution_count": 4,
   "id": "fe313829-a741-41c2-9030-95468f03c4ec",
   "metadata": {},
   "outputs": [
    {
     "data": {
      "text/plain": [
       "5"
      ]
     },
     "execution_count": 4,
     "metadata": {},
     "output_type": "execute_result"
    }
   ],
   "source": [
    "x"
   ]
  },
  {
   "cell_type": "code",
   "execution_count": 5,
   "id": "08baf4d5-02b5-4374-a2e4-955650f7b00a",
   "metadata": {},
   "outputs": [
    {
     "data": {
      "text/plain": [
       "9"
      ]
     },
     "execution_count": 5,
     "metadata": {},
     "output_type": "execute_result"
    }
   ],
   "source": [
    "y"
   ]
  },
  {
   "cell_type": "code",
   "execution_count": 6,
   "id": "e0d4a014-6393-4e87-a79d-bbc9fc4c703e",
   "metadata": {},
   "outputs": [],
   "source": [
    "x , y = y , x"
   ]
  },
  {
   "cell_type": "code",
   "execution_count": 7,
   "id": "60a4b4c9-c58c-4a46-a51c-919a6e5a6f96",
   "metadata": {},
   "outputs": [
    {
     "data": {
      "text/plain": [
       "9"
      ]
     },
     "execution_count": 7,
     "metadata": {},
     "output_type": "execute_result"
    }
   ],
   "source": [
    "x"
   ]
  },
  {
   "cell_type": "raw",
   "id": "9f01ac55-93dd-46b2-8ad5-387b0e7ef926",
   "metadata": {},
   "source": [
    "2. Create a program that calculates the area of a rectangle. Take the length and\n",
    "width as inputs from the user and store them in variables. Calculate and\n",
    "display the area."
   ]
  },
  {
   "cell_type": "code",
   "execution_count": 3,
   "id": "fb691ba6-f7a3-4c00-9f80-65d7b1e90a55",
   "metadata": {},
   "outputs": [
    {
     "name": "stdin",
     "output_type": "stream",
     "text": [
      " 20\n",
      " 32\n"
     ]
    },
    {
     "name": "stdout",
     "output_type": "stream",
     "text": [
      "320.0\n"
     ]
    }
   ],
   "source": [
    "length=int(input())\n",
    "width=int(input())\n",
    "area_of_triangle=(length * width)/2\n",
    "print(area_of_triangle)"
   ]
  },
  {
   "cell_type": "raw",
   "id": "374e2942-5ea8-4328-8b37-379e7d75707d",
   "metadata": {},
   "source": [
    "3. Write a Python program that converts temperatures from Celsius to\n",
    "Fahrenheit. Take the temperature in Celsius as input, store it in a variable,\n",
    "convert it to Fahrenheit, and display the result."
   ]
  },
  {
   "cell_type": "code",
   "execution_count": 5,
   "id": "4bf9a364-86a7-40e6-8784-728241b66097",
   "metadata": {},
   "outputs": [
    {
     "name": "stdin",
     "output_type": "stream",
     "text": [
      " 30\n"
     ]
    },
    {
     "name": "stdout",
     "output_type": "stream",
     "text": [
      "30.0 degree Celsius is equal to 86.0 degree Fahrenheit\n"
     ]
    }
   ],
   "source": [
    "celsius = float(input())\n",
    "fahrenheit = (celsius * 1.8) + 32\n",
    "print ('%0.1f degree Celsius is equal to %0.1f degree Fahrenheit' %(celsius,fahrenheit))"
   ]
  },
  {
   "cell_type": "markdown",
   "id": "82c119b1-0630-499d-b006-d2a285fdbee3",
   "metadata": {},
   "source": [
    "#STRING"
   ]
  },
  {
   "cell_type": "raw",
   "id": "2d189735-d444-44e1-88eb-f7a8dcf5a69d",
   "metadata": {},
   "source": [
    "1. Write a Python program that takes a string as input and prints the length of\n",
    "the string."
   ]
  },
  {
   "cell_type": "code",
   "execution_count": 6,
   "id": "470f24fd-e5d6-4e2e-a337-73e0efd23d18",
   "metadata": {},
   "outputs": [
    {
     "name": "stdin",
     "output_type": "stream",
     "text": [
      " raja\n"
     ]
    },
    {
     "name": "stdout",
     "output_type": "stream",
     "text": [
      "4\n"
     ]
    }
   ],
   "source": [
    "name=str(input())\n",
    "print (len(name))"
   ]
  },
  {
   "cell_type": "raw",
   "id": "de84e52f-ff47-4d95-a536-ee3c298cc778",
   "metadata": {},
   "source": [
    "2. Create a program that takes a sentence from the user and counts the number\n",
    "of vowels (a, e, i, o, u) in the string."
   ]
  },
  {
   "cell_type": "code",
   "execution_count": 12,
   "id": "82cda160-5e6b-440c-b061-0518839152e3",
   "metadata": {},
   "outputs": [
    {
     "name": "stdin",
     "output_type": "stream",
     "text": [
      " raj\n"
     ]
    },
    {
     "ename": "TypeError",
     "evalue": "'str' object is not callable",
     "output_type": "error",
     "traceback": [
      "\u001b[0;31m---------------------------------------------------------------------------\u001b[0m",
      "\u001b[0;31mTypeError\u001b[0m                                 Traceback (most recent call last)",
      "Cell \u001b[0;32mIn[12], line 3\u001b[0m\n\u001b[1;32m      1\u001b[0m sentence\u001b[38;5;241m=\u001b[39m\u001b[38;5;28mstr\u001b[39m(\u001b[38;5;28minput\u001b[39m())\n\u001b[1;32m      2\u001b[0m vowel\u001b[38;5;241m=\u001b[39m\u001b[38;5;124m'\u001b[39m\u001b[38;5;124ma,e,i,o,u\u001b[39m\u001b[38;5;124m'\u001b[39m\n\u001b[0;32m----> 3\u001b[0m \u001b[38;5;28mprint\u001b[39m (\u001b[38;5;28mlen\u001b[39m(\u001b[43mvowel\u001b[49m\u001b[43m(\u001b[49m\u001b[43m)\u001b[49m))\n",
      "\u001b[0;31mTypeError\u001b[0m: 'str' object is not callable"
     ]
    }
   ],
   "source": [
    "sentence=str(input())\n",
    "vowel='a,e,i,o,u'\n",
    "print (len(vowel()))"
   ]
  },
  {
   "cell_type": "raw",
   "id": "0845f9bb-b680-4a7a-8052-c063697fb6ca",
   "metadata": {},
   "source": [
    "3. Given a string, reverse the order of characters using string slicing and print\n",
    "the reversed string."
   ]
  },
  {
   "cell_type": "code",
   "execution_count": 22,
   "id": "d5597eec-824b-43b0-bc43-788ac008c62a",
   "metadata": {},
   "outputs": [
    {
     "data": {
      "text/plain": [
       "'kayanajar'"
      ]
     },
     "execution_count": 22,
     "metadata": {},
     "output_type": "execute_result"
    }
   ],
   "source": [
    "s='rajanayak'\n",
    "s[0:8]\n",
    "s[::]\n",
    "s[slice(None,None,-1)]"
   ]
  },
  {
   "cell_type": "raw",
   "id": "87f5c714-959c-454e-8d65-5d4f0094ed5f",
   "metadata": {},
   "source": [
    "4. Write a program that takes a string as input and checks if it is a palindrome\n",
    "(reads the same forwards and backwards)."
   ]
  },
  {
   "cell_type": "code",
   "execution_count": 26,
   "id": "718b7d41-f72f-4619-b9c2-927a650fa9e9",
   "metadata": {},
   "outputs": [
    {
     "name": "stdin",
     "output_type": "stream",
     "text": [
      " raja\n"
     ]
    },
    {
     "name": "stdout",
     "output_type": "stream",
     "text": [
      "No\n"
     ]
    }
   ],
   "source": [
    "def isPalindrome(s):\n",
    "    return s == s[::-1]\n",
    " \n",
    "s = str(input())\n",
    "ans = isPalindrome(s)\n",
    " \n",
    "if ans:\n",
    "    print(\"Yes\")\n",
    "else:\n",
    "    print(\"No\")"
   ]
  },
  {
   "cell_type": "raw",
   "id": "0f57115d-a0bb-4453-b8d7-7c4760a013e5",
   "metadata": {},
   "source": [
    "5. Create a program that takes a string as input and removes all the spaces from\n",
    "it. Print the modified string without spaces."
   ]
  },
  {
   "cell_type": "code",
   "execution_count": 29,
   "id": "652bfb50-fc0a-4021-bcc3-8527695325fd",
   "metadata": {},
   "outputs": [
    {
     "name": "stdin",
     "output_type": "stream",
     "text": [
      " r j k k\n"
     ]
    },
    {
     "name": "stdout",
     "output_type": "stream",
     "text": [
      "rjkk\n",
      "None\n"
     ]
    }
   ],
   "source": [
    "def remove_space(space):\n",
    "    space = space.replace(' ','')\n",
    "    print (space)\n",
    "    \n",
    "space = str(input())\n",
    "print(remove_space(space))"
   ]
  },
  {
   "cell_type": "code",
   "execution_count": null,
   "id": "96768b0d-b982-4a37-b527-d1ed94bb9af4",
   "metadata": {},
   "outputs": [],
   "source": []
  }
 ],
 "metadata": {
  "kernelspec": {
   "display_name": "Python 3 (ipykernel)",
   "language": "python",
   "name": "python3"
  },
  "language_info": {
   "codemirror_mode": {
    "name": "ipython",
    "version": 3
   },
   "file_extension": ".py",
   "mimetype": "text/x-python",
   "name": "python",
   "nbconvert_exporter": "python",
   "pygments_lexer": "ipython3",
   "version": "3.10.8"
  }
 },
 "nbformat": 4,
 "nbformat_minor": 5
}
